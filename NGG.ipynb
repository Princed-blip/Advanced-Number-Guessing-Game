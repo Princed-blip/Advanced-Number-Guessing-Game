{
 "cells": [
  {
   "cell_type": "code",
   "execution_count": 3,
   "id": "df6d9998-5625-47b1-8837-3c09b8a3fc24",
   "metadata": {},
   "outputs": [
    {
     "name": "stdout",
     "output_type": "stream",
     "text": [
      "Welcome to the Number Guessing Game!\n",
      "I'm thinking of a number between 1 and 100.\n"
     ]
    },
    {
     "name": "stdin",
     "output_type": "stream",
     "text": [
      "Enter your guess:  40\n"
     ]
    },
    {
     "name": "stdout",
     "output_type": "stream",
     "text": [
      "Too high! Try again.\n"
     ]
    },
    {
     "name": "stdin",
     "output_type": "stream",
     "text": [
      "Enter your guess:  30\n"
     ]
    },
    {
     "name": "stdout",
     "output_type": "stream",
     "text": [
      "Too high! Try again.\n"
     ]
    },
    {
     "name": "stdin",
     "output_type": "stream",
     "text": [
      "Enter your guess:  20\n"
     ]
    },
    {
     "name": "stdout",
     "output_type": "stream",
     "text": [
      "Too high! Try again.\n"
     ]
    },
    {
     "name": "stdin",
     "output_type": "stream",
     "text": [
      "Enter your guess:  10\n"
     ]
    },
    {
     "name": "stdout",
     "output_type": "stream",
     "text": [
      "Too low! Try again.\n"
     ]
    },
    {
     "name": "stdin",
     "output_type": "stream",
     "text": [
      "Enter your guess:  15\n"
     ]
    },
    {
     "name": "stdout",
     "output_type": "stream",
     "text": [
      "Too high! Try again.\n"
     ]
    },
    {
     "name": "stdin",
     "output_type": "stream",
     "text": [
      "Enter your guess:  13\n"
     ]
    },
    {
     "name": "stdout",
     "output_type": "stream",
     "text": [
      "Too high! Try again.\n"
     ]
    },
    {
     "name": "stdin",
     "output_type": "stream",
     "text": [
      "Enter your guess:  11\n"
     ]
    },
    {
     "name": "stdout",
     "output_type": "stream",
     "text": [
      "Too low! Try again.\n"
     ]
    },
    {
     "name": "stdin",
     "output_type": "stream",
     "text": [
      "Enter your guess:  12\n"
     ]
    },
    {
     "name": "stdout",
     "output_type": "stream",
     "text": [
      "🎉 Correct! You guessed the number in 8 attempts.\n"
     ]
    }
   ],
   "source": [
    "import random\n",
    "\n",
    "def number_guessing_game():\n",
    "    print(\"Welcome to the Number Guessing Game!\")\n",
    "    print(\"I'm thinking of a number between 1 and 100.\")\n",
    "\n",
    "    # Generate random number\n",
    "    secret_number = random.randint(1, 100)\n",
    "    attempts = 0\n",
    "\n",
    "    while True:\n",
    "        try:\n",
    "            guess = int(input(\"Enter your guess: \"))\n",
    "            attempts += 1\n",
    "\n",
    "            if guess < secret_number:\n",
    "                print(\"Too low! Try again.\")\n",
    "            elif guess > secret_number:\n",
    "                print(\"Too high! Try again.\")\n",
    "            else:\n",
    "                print(f\"🎉 Correct! You guessed the number in {attempts} attempts.\")\n",
    "                break\n",
    "        except ValueError:\n",
    "            print(\"Please enter a valid number.\")\n",
    "\n",
    "number_guessing_game()\n",
    "\n"
   ]
  },
  {
   "cell_type": "code",
   "execution_count": 3,
   "id": "bfe05d5f-40cf-4bb1-8916-efda5d3ea1cd",
   "metadata": {},
   "outputs": [
    {
     "name": "stdout",
     "output_type": "stream",
     "text": [
      "🎯 Welcome to the Advanced Number Guessing Game! 🎯\n",
      "Games played: 0 | Wins: 0\n",
      "\n",
      "Choose your difficulty level:\n",
      "1. Easy (1–50, 10 attempts)\n",
      "2. Medium (1–100, 7 attempts)\n",
      "3. Hard (1–200, 5 attempts)\n"
     ]
    },
    {
     "name": "stdin",
     "output_type": "stream",
     "text": [
      "Enter 1, 2, or 3:  3\n"
     ]
    },
    {
     "name": "stdout",
     "output_type": "stream",
     "text": [
      "\n",
      "I'm thinking of a number between 1 and 200. Good luck!\n",
      "\n"
     ]
    },
    {
     "name": "stdin",
     "output_type": "stream",
     "text": [
      "Enter your guess:  100\n"
     ]
    },
    {
     "name": "stdout",
     "output_type": "stream",
     "text": [
      "Too high! 🔼 Attempts left: 4\n"
     ]
    },
    {
     "name": "stdin",
     "output_type": "stream",
     "text": [
      "Enter your guess:  50\n"
     ]
    },
    {
     "name": "stdout",
     "output_type": "stream",
     "text": [
      "Too low! 🔽 Attempts left: 3\n"
     ]
    },
    {
     "name": "stdin",
     "output_type": "stream",
     "text": [
      "Enter your guess:  70\n"
     ]
    },
    {
     "name": "stdout",
     "output_type": "stream",
     "text": [
      "Too high! 🔼 Attempts left: 2\n"
     ]
    },
    {
     "name": "stdin",
     "output_type": "stream",
     "text": [
      "Enter your guess:  60\n"
     ]
    },
    {
     "name": "stdout",
     "output_type": "stream",
     "text": [
      "Too low! 🔽 Attempts left: 1\n"
     ]
    },
    {
     "name": "stdin",
     "output_type": "stream",
     "text": [
      "Enter your guess:  65\n"
     ]
    },
    {
     "name": "stdout",
     "output_type": "stream",
     "text": [
      "Too low! 🔽 Attempts left: 0\n",
      "😢 Out of attempts! The number was 69.\n"
     ]
    },
    {
     "name": "stdin",
     "output_type": "stream",
     "text": [
      "\n",
      "Would you like to play again? (Yes/No):  No\n"
     ]
    },
    {
     "name": "stdout",
     "output_type": "stream",
     "text": [
      "\n",
      "📊 Final Stats:\n",
      "Total Games Played: 1\n",
      "Total Wins: 0\n",
      "👋 Thanks for playing! Goodbye!\n"
     ]
    }
   ],
   "source": [
    "import random\n",
    "import pickle\n",
    "import os\n",
    "\n",
    "SAVE_FILE = \"game_stats.pkl\"  # File to store saved data\n",
    "\n",
    "# Function to load saved stats\n",
    "def load_stats():\n",
    "    if os.path.exists(SAVE_FILE):\n",
    "        with open(SAVE_FILE, \"rb\") as f:\n",
    "            return pickle.load(f)\n",
    "    else:\n",
    "        return {\"games_played\": 0, \"wins\": 0}\n",
    "\n",
    "# Function to save stats\n",
    "def save_stats(stats):\n",
    "    with open(SAVE_FILE, \"wb\") as f:\n",
    "        pickle.dump(stats, f)\n",
    "\n",
    "# Main game function\n",
    "def number_guessing_game():\n",
    "    stats = load_stats()\n",
    "    print(\"🎯 Welcome to the Advanced Number Guessing Game! 🎯\")\n",
    "    print(f\"Games played: {stats['games_played']} | Wins: {stats['wins']}\")\n",
    "    print(\"\\nChoose your difficulty level:\")\n",
    "    print(\"1. Easy (1–50, 10 attempts)\")\n",
    "    print(\"2. Medium (1–100, 7 attempts)\")\n",
    "    print(\"3. Hard (1–200, 5 attempts)\")\n",
    "\n",
    "    # Select difficulty\n",
    "    while True:\n",
    "        choice = input(\"Enter 1, 2, or 3: \")\n",
    "        if choice == '1':\n",
    "            upper_limit = 50\n",
    "            attempts_left = 10\n",
    "            break\n",
    "        elif choice == '2':\n",
    "            upper_limit = 100\n",
    "            attempts_left = 7\n",
    "            break\n",
    "        elif choice == '3':\n",
    "            upper_limit = 200\n",
    "            attempts_left = 5\n",
    "            break\n",
    "        else:\n",
    "            print(\"❌ Invalid choice! Please select 1, 2, or 3.\")\n",
    "   \n",
    "    # Selecting Number Generation\n",
    "    secret_number = random.randint(1, upper_limit)\n",
    "    print(f\"\\nI'm thinking of a number between 1 and {upper_limit}. Good luck!\\n\")\n",
    "\n",
    "    stats[\"games_played\"] += 1  # count every game\n",
    "\n",
    "    while attempts_left > 0:    # Main guessing loop\n",
    "        try:\n",
    "            guess = int(input(\"Enter your guess: \"))\n",
    "            attempts_left -= 1\n",
    "\n",
    "            if guess < secret_number:\n",
    "                print(f\"Too low! 🔽 Attempts left: {attempts_left}\")\n",
    "            elif guess > secret_number:\n",
    "                print(f\"Too high! 🔼 Attempts left: {attempts_left}\")\n",
    "            else:\n",
    "                print(f\"🎉 Correct! The number was {secret_number}.\")\n",
    "                used = (10 - attempts_left if upper_limit == 50 else 7 - attempts_left if upper_limit == 100 else 5 - attempts_left)\n",
    "                print(f\"You guessed it in {used} attempts.\")\n",
    "                stats[\"wins\"] += 1\n",
    "                break\n",
    "\n",
    "            if attempts_left == 0:\n",
    "                print(f\"😢 Out of attempts! The number was {secret_number}.\")\n",
    "\n",
    "        except ValueError:\n",
    "            print(\"⚠️ Please enter a valid number!\")\n",
    "\n",
    "    # Save stats after game ends\n",
    "    save_stats(stats)\n",
    "\n",
    "    # Replay option\n",
    "    again = input(\"\\nWould you like to play again? (Yes/No): \").lower()\n",
    "    if again in ('yes', 'y'):\n",
    "        number_guessing_game()\n",
    "    else:\n",
    "        print(\"\\n📊 Final Stats:\")\n",
    "        print(f\"Total Games Played: {stats['games_played']}\")\n",
    "        print(f\"Total Wins: {stats['wins']}\")\n",
    "        print(\"👋 Thanks for playing! Goodbye!\")\n",
    "\n",
    "# Run the game\n",
    "number_guessing_game()"
   ]
  },
  {
   "cell_type": "code",
   "execution_count": null,
   "id": "c3c82dd7-2e11-4814-b047-4afc341b740d",
   "metadata": {},
   "outputs": [],
   "source": []
  }
 ],
 "metadata": {
  "kernelspec": {
   "display_name": "Python [conda env:base] *",
   "language": "python",
   "name": "conda-base-py"
  },
  "language_info": {
   "codemirror_mode": {
    "name": "ipython",
    "version": 3
   },
   "file_extension": ".py",
   "mimetype": "text/x-python",
   "name": "python",
   "nbconvert_exporter": "python",
   "pygments_lexer": "ipython3",
   "version": "3.13.5"
  }
 },
 "nbformat": 4,
 "nbformat_minor": 5
}
